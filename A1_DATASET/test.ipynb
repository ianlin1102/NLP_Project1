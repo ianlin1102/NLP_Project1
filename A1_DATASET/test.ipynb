{
 "cells": [
  {
   "cell_type": "code",
   "execution_count": 43,
   "id": "f0169c2c",
   "metadata": {},
   "outputs": [
    {
     "name": "stderr",
     "output_type": "stream",
     "text": [
      "[nltk_data] Downloading package stopwords to\n",
      "[nltk_data]     /Users/evergreen/nltk_data...\n",
      "[nltk_data]   Package stopwords is already up-to-date!\n",
      "[nltk_data] Downloading package punkt_tab to\n",
      "[nltk_data]     /Users/evergreen/nltk_data...\n",
      "[nltk_data]   Package punkt_tab is already up-to-date!\n"
     ]
    }
   ],
   "source": [
    "import pandas as pd\n",
    "import numpy as np\n",
    "import nltk\n",
    "import torch\n",
    "nltk.download(\"stopwords\")\n",
    "nltk.download('punkt_tab')\n",
    "from nltk.corpus import stopwords\n",
    "from nltk.tokenize import word_tokenize, sent_tokenize\n",
    "from collections import Counter\n"
   ]
  },
  {
   "cell_type": "code",
   "execution_count": 44,
   "id": "55a562b3",
   "metadata": {},
   "outputs": [],
   "source": [
    "#print(torch.__version__)\n",
    "#print(\"MPS available:\", torch.backends.mps.is_available())\n",
    "#print(\"MPS built:\", torch.backends.mps.is_built())"
   ]
  },
  {
   "cell_type": "code",
   "execution_count": 73,
   "id": "e3d7a811",
   "metadata": {},
   "outputs": [
    {
     "name": "stdout",
     "output_type": "stream",
     "text": [
      "<s> I booked two rooms four months in advance at the Talbott . We were placed on the top floor next to the elevators , which are used all night long . When speaking to the front desk , I was told that they were simply honoring my request for an upper floor , which I had requested for a better view . I am looking at a brick wall , and getting no sleep . He also told me that they had received complaints before from guests on the 16th floor , and were aware of the noise problem . Why then did they place us on this floor when the hotel is not totally booked ? A request for an upper floor does not constitute placing someone on the TOP floor and using that request to justify this . If you decide to stay here , request a room on a lower floor and away from the elevator ! I spoke at length when booking my two rooms about my preferences . This is simply poor treatment of a guest whom they believed would not complain . </s>\n",
      "<s> I LOVED this hotel . The room was so chic and trendy , the bed was comfortable , great slippers and robes . I love the Keihl 's bath products in the bathroom . We went during my birthday weekend , and they had a card and plate with pastries waiting in the room . We got a great deal on a junior suite from Travelzoo , but when we tried to take another trip to Chicago , the deal was gone . I really recommend the hotel . I LOVED it . The ONLY problem we had was with the David Burke Steakhouse . The service was horrible , they switched our order with the table next to our 's and the only compensation was they took off a $ 7 side dish we ordered ( and they were nice enough to NOT charge us for the other side dish we DID N'T get ) . DO N'T go there . Go to the Lawry 's accross the street . But stay at the James . ( BTW- its not a 3-star hotel like the website lists- its at least 4-star ) </s>\n"
     ]
    }
   ],
   "source": [
    "file_object = open( \"train.txt\", \"r\" )\n",
    "test_lines = file_object.readlines()[:2]\n",
    "result = []\n",
    "for comment in test_lines:\n",
    "  comment = comment.strip()\n",
    "  comment = \"<s> \" + comment + \" </s>\"\n",
    "  print(comment)\n",
    "    \n",
    "\n",
    "# print(test_line)\n",
    "# test_lines = sent_tokenize(test_line)\n",
    "# test = Counter()\n",
    "# print(test_lines)\n",
    "# for line in test_lines:\n",
    "#   line = \"<s> \" + line + \" </s>\"\n",
    "#   print(line)\n",
    "#   line = line.split()\n",
    "#   for word in line:\n",
    "#     test[word] += 1\n",
    "# print(test)"
   ]
  },
  {
   "cell_type": "code",
   "execution_count": null,
   "id": "73cc195f",
   "metadata": {},
   "outputs": [],
   "source": [
    "def collect_unigram(filename):\n",
    "    unigram_counter = Counter()\n",
    "    \n",
    "    with open(filename, \"r\") as file_object:\n",
    "        for comment in file_object.readlines(): # File is already document tokenized.\n",
    "            comment = comment.strip()\n",
    "            comment = \" <s> \" + comment + \" </s> \"\n",
    "            #print(comment)\n",
    "            words = comment.split()  # Split into individual tokens\n",
    "            for word in words:\n",
    "                unigram_counter[word] += 1  # Count each word\n",
    "    \n",
    "    return unigram_counter\n",
    "\n",
    "unigram_counter = collect_unigram(\"train.txt\") # The entire document should be counted "
   ]
  },
  {
   "cell_type": "code",
   "execution_count": null,
   "id": "1f6070d7",
   "metadata": {},
   "outputs": [],
   "source": [
    "unigram_counter"
   ]
  }
 ],
 "metadata": {
  "kernelspec": {
   "display_name": ".venv (3.13.5)",
   "language": "python",
   "name": "python3"
  },
  "language_info": {
   "codemirror_mode": {
    "name": "ipython",
    "version": 3
   },
   "file_extension": ".py",
   "mimetype": "text/x-python",
   "name": "python",
   "nbconvert_exporter": "python",
   "pygments_lexer": "ipython3",
   "version": "3.13.5"
  }
 },
 "nbformat": 4,
 "nbformat_minor": 5
}
